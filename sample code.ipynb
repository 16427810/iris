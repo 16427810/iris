{
 "cells": [
  {
   "cell_type": "code",
   "execution_count": 3,
   "id": "a9126a40",
   "metadata": {},
   "outputs": [],
   "source": [
    "import numpy\n",
    "import pandas as pd"
   ]
  },
  {
   "cell_type": "code",
   "execution_count": 4,
   "id": "510d7df3",
   "metadata": {},
   "outputs": [
    {
     "data": {
      "text/html": [
       "<div>\n",
       "<style scoped>\n",
       "    .dataframe tbody tr th:only-of-type {\n",
       "        vertical-align: middle;\n",
       "    }\n",
       "\n",
       "    .dataframe tbody tr th {\n",
       "        vertical-align: top;\n",
       "    }\n",
       "\n",
       "    .dataframe thead th {\n",
       "        text-align: right;\n",
       "    }\n",
       "</style>\n",
       "<table border=\"1\" class=\"dataframe\">\n",
       "  <thead>\n",
       "    <tr style=\"text-align: right;\">\n",
       "      <th></th>\n",
       "      <th>GLOBAL_USER_ID</th>\n",
       "      <th>PREFIX</th>\n",
       "      <th>EVENT_TYPE</th>\n",
       "      <th>DATE</th>\n",
       "    </tr>\n",
       "  </thead>\n",
       "  <tbody>\n",
       "    <tr>\n",
       "      <th>0</th>\n",
       "      <td>48e9975f3b229ad92a34a878083d3a89</td>\n",
       "      <td>pd</td>\n",
       "      <td>Email Opened</td>\n",
       "      <td>2021-09-15</td>\n",
       "    </tr>\n",
       "    <tr>\n",
       "      <th>1</th>\n",
       "      <td>48e9975f3b229ad92a34a878083d3a89</td>\n",
       "      <td>pd</td>\n",
       "      <td>Email Delivered</td>\n",
       "      <td>2021-11-10</td>\n",
       "    </tr>\n",
       "    <tr>\n",
       "      <th>2</th>\n",
       "      <td>48e9975f3b229ad92a34a878083d3a89</td>\n",
       "      <td>pd</td>\n",
       "      <td>Email Opened</td>\n",
       "      <td>2022-02-23</td>\n",
       "    </tr>\n",
       "    <tr>\n",
       "      <th>3</th>\n",
       "      <td>654cd37a657f2246157d2517417ceb43</td>\n",
       "      <td>msg</td>\n",
       "      <td>Email Sent</td>\n",
       "      <td>2021-12-06</td>\n",
       "    </tr>\n",
       "    <tr>\n",
       "      <th>4</th>\n",
       "      <td>654cd37a657f2246157d2517417ceb43</td>\n",
       "      <td>msg</td>\n",
       "      <td>Email Clicked</td>\n",
       "      <td>2021-10-21</td>\n",
       "    </tr>\n",
       "  </tbody>\n",
       "</table>\n",
       "</div>"
      ],
      "text/plain": [
       "                     GLOBAL_USER_ID PREFIX       EVENT_TYPE        DATE\n",
       "0  48e9975f3b229ad92a34a878083d3a89     pd     Email Opened  2021-09-15\n",
       "1  48e9975f3b229ad92a34a878083d3a89     pd  Email Delivered  2021-11-10\n",
       "2  48e9975f3b229ad92a34a878083d3a89     pd     Email Opened  2022-02-23\n",
       "3  654cd37a657f2246157d2517417ceb43    msg       Email Sent  2021-12-06\n",
       "4  654cd37a657f2246157d2517417ceb43    msg    Email Clicked  2021-10-21"
      ]
     },
     "execution_count": 4,
     "metadata": {},
     "output_type": "execute_result"
    }
   ],
   "source": [
    "data = pd.read_csv('/Users/maggie/Desktop/DATA/user behavior .csv')\n",
    "data.head()"
   ]
  },
  {
   "cell_type": "code",
   "execution_count": null,
   "id": "65c3192e",
   "metadata": {},
   "outputs": [],
   "source": [
    "data"
   ]
  }
 ],
 "metadata": {
  "kernelspec": {
   "display_name": "Python 3 (ipykernel)",
   "language": "python",
   "name": "python3"
  },
  "language_info": {
   "codemirror_mode": {
    "name": "ipython",
    "version": 3
   },
   "file_extension": ".py",
   "mimetype": "text/x-python",
   "name": "python",
   "nbconvert_exporter": "python",
   "pygments_lexer": "ipython3",
   "version": "3.11.5"
  }
 },
 "nbformat": 4,
 "nbformat_minor": 5
}
